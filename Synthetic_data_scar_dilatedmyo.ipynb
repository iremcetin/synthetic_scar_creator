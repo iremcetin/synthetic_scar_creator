{
  "nbformat": 4,
  "nbformat_minor": 0,
  "metadata": {
    "colab": {
      "name": "Synthetic_data_scar_dilatedmyo.ipynb",
      "provenance": [],
      "toc_visible": true,
      "authorship_tag": "ABX9TyOIDnzAhgufkTX3W7Vkcuwi",
      "include_colab_link": true
    },
    "kernelspec": {
      "name": "python3",
      "display_name": "Python 3"
    },
    "language_info": {
      "name": "python"
    }
  },
  "cells": [
    {
      "cell_type": "markdown",
      "metadata": {
        "id": "view-in-github",
        "colab_type": "text"
      },
      "source": [
        "<a href=\"https://colab.research.google.com/github/iremcetin/synthetic_scar_creator/blob/main/Synthetic_data_scar_dilatedmyo.ipynb\" target=\"_parent\"><img src=\"https://colab.research.google.com/assets/colab-badge.svg\" alt=\"Open In Colab\"/></a>"
      ]
    },
    {
      "cell_type": "markdown",
      "metadata": {
        "id": "yDauRLkS0E6m"
      },
      "source": [
        "Goal:  Create synthetic data using ACDC healthy cases\n",
        "\n",
        "**1. Scar:**\n",
        "\n",
        "\n",
        "*   Take emidec data - only the MINF cohort\n",
        "*   Randomly select 20\n",
        "*   take the scar segmentation/ geometry and apply it to the ACDC healthy ones\n",
        "Q: Intensity of the scar?\n",
        "* average intensity of the blood pool in acdc\n",
        "\n",
        "\n",
        "\n",
        "\n"
      ]
    },
    {
      "cell_type": "code",
      "metadata": {
        "colab": {
          "base_uri": "https://localhost:8080/"
        },
        "id": "VWDZ__4KwMt2",
        "outputId": "8383e046-630d-4b6d-c940-40e91a2fe229"
      },
      "source": [
        "# Give permission to google drive \n",
        "# Generated files will be saved there\n",
        "\n",
        "from google.colab import drive\n",
        "drive.mount('/content/gdrive')"
      ],
      "execution_count": null,
      "outputs": [
        {
          "output_type": "stream",
          "text": [
            "Mounted at /content/gdrive\n"
          ],
          "name": "stdout"
        }
      ]
    },
    {
      "cell_type": "markdown",
      "metadata": {
        "id": "CS_vvB_7wAtV"
      },
      "source": [
        "# **Imports**"
      ]
    },
    {
      "cell_type": "code",
      "metadata": {
        "colab": {
          "base_uri": "https://localhost:8080/"
        },
        "id": "6ECSgqW8vkiI",
        "outputId": "ed88c42a-63eb-425c-b842-4d8d8bcc7baf"
      },
      "source": [
        "!pip install nibabel\n",
        "!pip install pyradiomics"
      ],
      "execution_count": null,
      "outputs": [
        {
          "output_type": "stream",
          "text": [
            "Requirement already satisfied: nibabel in /usr/local/lib/python3.7/dist-packages (3.0.2)\n",
            "Requirement already satisfied: numpy>=1.12 in /usr/local/lib/python3.7/dist-packages (from nibabel) (1.19.5)\n",
            "Requirement already satisfied: pyradiomics in /usr/local/lib/python3.7/dist-packages (3.0.1)\n",
            "Requirement already satisfied: six>=1.10.0 in /usr/local/lib/python3.7/dist-packages (from pyradiomics) (1.15.0)\n",
            "Requirement already satisfied: pykwalify>=1.6.0 in /usr/local/lib/python3.7/dist-packages (from pyradiomics) (1.8.0)\n",
            "Requirement already satisfied: PyWavelets>=0.4.0 in /usr/local/lib/python3.7/dist-packages (from pyradiomics) (1.1.1)\n",
            "Requirement already satisfied: SimpleITK>=0.9.1 in /usr/local/lib/python3.7/dist-packages (from pyradiomics) (2.0.2)\n",
            "Requirement already satisfied: numpy>=1.9.2 in /usr/local/lib/python3.7/dist-packages (from pyradiomics) (1.19.5)\n",
            "Requirement already satisfied: ruamel.yaml>=0.16.0 in /usr/local/lib/python3.7/dist-packages (from pykwalify>=1.6.0->pyradiomics) (0.17.4)\n",
            "Requirement already satisfied: docopt>=0.6.2 in /usr/local/lib/python3.7/dist-packages (from pykwalify>=1.6.0->pyradiomics) (0.6.2)\n",
            "Requirement already satisfied: python-dateutil>=2.8.0 in /usr/local/lib/python3.7/dist-packages (from pykwalify>=1.6.0->pyradiomics) (2.8.1)\n",
            "Requirement already satisfied: ruamel.yaml.clib>=0.1.2; platform_python_implementation == \"CPython\" and python_version < \"3.10\" in /usr/local/lib/python3.7/dist-packages (from ruamel.yaml>=0.16.0->pykwalify>=1.6.0->pyradiomics) (0.2.2)\n"
          ],
          "name": "stdout"
        }
      ]
    },
    {
      "cell_type": "code",
      "metadata": {
        "id": "RPqPkywJv16v"
      },
      "source": [
        "import SimpleITK as sitk\n",
        "import nibabel as nib\n",
        "import radiomics\n",
        "from scipy.ndimage import zoom\n"
      ],
      "execution_count": null,
      "outputs": []
    },
    {
      "cell_type": "code",
      "metadata": {
        "id": "io3110JWv8fn"
      },
      "source": [
        "# Imports #2\n",
        "import os\n",
        "import cv2\n",
        "import glob\n",
        "import random\n",
        "import numpy as np\n",
        "import os.path\n",
        "import glob\n",
        "import matplotlib.pyplot as plt"
      ],
      "execution_count": null,
      "outputs": []
    },
    {
      "cell_type": "markdown",
      "metadata": {
        "id": "hqegwHCCC__K"
      },
      "source": [
        "# **Function definitions**"
      ]
    },
    {
      "cell_type": "code",
      "metadata": {
        "id": "mgxkhEi9lMLQ"
      },
      "source": [
        "def find_nearest(array, value):\n",
        "    array = np.asarray(array)\n",
        "    idx = (np.abs(array - value)).argmin()\n",
        "    return array[idx]"
      ],
      "execution_count": null,
      "outputs": []
    },
    {
      "cell_type": "code",
      "metadata": {
        "id": "34lKC61JDEJn"
      },
      "source": [
        "def nii_reader(path):\n",
        "    reader = sitk.ImageFileReader()\n",
        "    reader.SetImageIO(\"NiftiImageIO\")\n",
        "    reader.SetFileName(path)\n",
        "    img = reader.Execute();\n",
        "    return img"
      ],
      "execution_count": null,
      "outputs": []
    },
    {
      "cell_type": "code",
      "metadata": {
        "id": "hmlW8YJFJ9oR"
      },
      "source": [
        "def mask_operations(mask, patient_id, path_binmask, dataset, low_thresh = 0, up_thresh = 0):\n",
        "    ##### Note : Mask is not binarize --> You need to binarize it\n",
        "    ##### Step 1 : Binary threshold \n",
        "#    mask_array = sitk.GetArrayFromImage(mask)\n",
        "    btif=sitk.BinaryThresholdImageFilter()\n",
        "    btif.SetLowerThreshold(low_thresh) # lower value to set as background = 0 : Inside value\n",
        "    btif.SetUpperThreshold(up_thresh) # upper value, if you set 2: label 3 will be visible, if you set 1, label 2 and 3 visible \n",
        "    btif.SetInsideValue(0)\n",
        "    btif.SetOutsideValue(1)\n",
        "    mask = btif.Execute(mask)\n",
        "    ##### Step 2 : Morphological closing --> fill the pixels with 0 inside ROI with 1 (fill the holes inside the ROI)\n",
        "    closing = sitk.BinaryMorphologicalClosingImageFilter()\n",
        "    mask =closing.Execute(mask)\n",
        "#    binMask = sitk.GetArrayFromImage(mask) ### To check the mask's pixel values\n",
        "    \n",
        "    ### save image to check later\n",
        "    binmask_path = path_binmask + patient_id + '_binMask.nii.gz'\n",
        "    sitk.WriteImage(mask, binmask_path)\n",
        "    \n",
        "    \n",
        "    return mask"
      ],
      "execution_count": null,
      "outputs": []
    },
    {
      "cell_type": "code",
      "metadata": {
        "id": "nSt64YUp1a_V"
      },
      "source": [
        "def change_mask(ED_gt_img_1, label_to_change, new_val):\n",
        "    ED_gt_img_2 = sitk.GetArrayFromImage(ED_gt_img_1)\n",
        "    ED_gt_img_2[ED_gt_img_2==label_to_change]=new_val\n",
        "    ED_gt_img = sitk.GetImageFromArray(ED_gt_img_2)\n",
        "    ED_gt_img.CopyInformation(ED_gt_img_1)\n",
        "    return ED_gt_img"
      ],
      "execution_count": null,
      "outputs": []
    },
    {
      "cell_type": "code",
      "metadata": {
        "id": "3HarcTf1H2pK"
      },
      "source": [
        "def create_patches_emidec(path, patient, dataset):\n",
        "    low_threshold = 0\n",
        "    up_threshold = 0\n",
        "    # Define the image paths [images and masks]\n",
        "    img_path=os.path.join(path,\"Images\",\"%s.nii.gz\" %(patient)) # Directory of image nii\n",
        "    gt_path =os.path.join(path, \"Contours\",\"%s.nii.gz\" %(patient)) # Directory of Ground truth\n",
        "\n",
        "    print(f\"Image path {img_path}\")\n",
        "    # Load the images with sitk\n",
        "    img = nii_reader(img_path)\n",
        "    gt_img = nii_reader(gt_path)\n",
        "\n",
        "    # mask operations\n",
        "    # Combine 2 labels together\n",
        "    binMask_path = \"/content/gdrive/MyDrive/Synthetic Data/syn_python/EMIDEC_binmask/\"\n",
        "    gt_img_l1 = mask_operations(gt_img, patient, binMask_path, dataset, low_threshold, up_threshold)  # make the segmentation 1-layer only\n",
        "    \n",
        "\n",
        "    # ED\n",
        "    (bbox, corrected_mask) = radiomics.imageoperations.checkMask(img, gt_img_l1, correctMask=True )\n",
        "    (cropped_img, cropped_gt) = radiomics.imageoperations.cropToTumorMask(img, gt_img_l1, boundingBox=bbox)\n",
        "    (cropped_gt_scar, a) = radiomics.imageoperations.cropToTumorMask(gt_img, gt_img_l1, boundingBox=bbox ) # segmentation: LV blood pool, scar and MVO area, MYO\n",
        "    return cropped_img, cropped_gt, cropped_gt_scar"
      ],
      "execution_count": null,
      "outputs": []
    },
    {
      "cell_type": "code",
      "metadata": {
        "id": "GBoia6-aL7mR"
      },
      "source": [
        "def create_patches_acdc(path, patient, dataset, syn = False):# if the input is synthetic image(s), syn = True \n",
        "    low_threshold = 0\n",
        "    up_threshold = 0\n",
        "    #radiomics_extractor = radiomics.featureextractor.RadiomicsFeaturesExtractor()\n",
        "    Info_path=os.path.join(path, patient,'Info.cfg')\n",
        "    Info=open( Info_path)\n",
        "    Info_2=[]\n",
        "\n",
        "    with open( Info_path) as Info : \n",
        "         for line in Info:\n",
        "#    a.append(line)\n",
        "             data=line.rstrip().split(\":\")\n",
        "             Info_2.append(str(data[1]))    \n",
        "    \n",
        "    ED=int(Info_2[0])\n",
        "    ES=int(Info_2[1])    \n",
        "    Height=float(Info_2[3])\n",
        "    Weight=float(Info_2[5])\n",
        "   \n",
        " \n",
        "    # Define the image paths [images and masks]\n",
        "    ED_path=os.path.join(path,patient,\"%s_frame%02d.nii.gz\" %(patient,ED)) # Directory of ED nii\n",
        "    ED_gt_path =os.path.join(path, patient,\"%s_frame%02d_gt.nii.gz\" %(patient,ED)) # Directory of ED Ground truth\n",
        "\n",
        "    ES_path=os.path.join(os.sep, path,patient,\"%s_frame%02d.nii.gz\" %(patient,ES)) # Directory of ES nii\n",
        "    ES_gt_path =os.path.join(path, patient,\"%s_frame%02d_gt.nii.gz\" %(patient,ES)) # Directory of ED Ground truth\n",
        "\n",
        "\n",
        "    #[nii_data_ED, aff, hdr] =load_nii(ED_path)\n",
        "    #[nii_data_ES, nii_affine_ES, nii_hdr_ES] =load_nii(ES_path)\n",
        "    #ED_img = sitk.ReadImage(ED_path,sitk.sitkUInt8)\n",
        "    #ED_gt_image = sitk.ReadImage(ED_gt_path, sitk.sitkUInt8)\n",
        "\n",
        "    if syn == False:\n",
        "    # Load the images with sitk\n",
        "      ED_img = nii_reader(ED_path)\n",
        "      ED_gt_img_1 = nii_reader(ED_gt_path)\n",
        "\n",
        "      ES_img = nii_reader(ES_path)\n",
        "      ES_gt_img_1 = nii_reader(ES_gt_path)\n",
        "    else :\n",
        "      ED_img = sitk.ReadImage(ED_path)\n",
        "      ED_gt_img_1 = sitk.ReadImage(ED_gt_path)\n",
        "\n",
        "      ES_img = sitk.ReadImage(ES_path)\n",
        "      ES_gt_img_1 = sitk.ReadImage(ES_gt_path)\n",
        "    # To create synthetic image, we only need the LV blood pool and myocardium \n",
        "    #For this reason, in only ACDC dataset, ZERO OUT the RV regions...\n",
        "   \n",
        "    ED_gt_img = change_mask(ED_gt_img_1, 1, 0) # make RV (label ==1 ) to zero\n",
        "    ES_gt_img = change_mask(ES_gt_img_1, 1, 0)\n",
        "    ##### Change the pixel values for other labels\n",
        "    ED_gt_img = change_mask(ED_gt_img, 2 ,1) # make label 2 to 1 (MYO)\n",
        "    ED_gt_img = change_mask(ED_gt_img, 3, 2) # make label 3 to 2 (LV) \n",
        "    ##### Do the same for ES\n",
        "    ES_gt_img = change_mask(ES_gt_img, 2 ,1) # make label 2 to 1 (MYO)\n",
        "    ES_gt_img = change_mask(ES_gt_img, 3, 2) # make label 3 to 2 (LV)\n",
        "    # mask operations\n",
        "    \n",
        "    #ED_gt_img_l1 = mask_operations(ED_gt_img, patient, path, dataset, low_threshold, up_threshold )  # make the segmentation 1-label only\n",
        "    #ES_gt_img_l1 = mask_operations(ES_gt_img, patient, path, dataset, low_threshold, up_threshold )\n",
        "\n",
        "    # ED\n",
        "    (bbox_ed, corrected_mask_ed) = radiomics.imageoperations.checkMask(ED_img, ED_gt_img, correctMask=True )\n",
        "    (cropped_ED, cropped_ED_gt) = radiomics.imageoperations.cropToTumorMask(ED_img, ED_gt_img, boundingBox=bbox_ed)\n",
        "\n",
        "    # ES\n",
        "    (bbox_es, corrected_mask_es) = radiomics.imageoperations.checkMask(ES_img, ES_gt_img, correctMask=True )\n",
        "    (cropped_ES, cropped_ES_gt) = radiomics.imageoperations.cropToTumorMask(ES_img, ES_gt_img, boundingBox=bbox_es)\n",
        "    return cropped_ED, cropped_ED_gt, ED, cropped_ES, cropped_ES_gt, ES "
      ],
      "execution_count": null,
      "outputs": []
    },
    {
      "cell_type": "code",
      "metadata": {
        "id": "buFogBkhIgDk"
      },
      "source": [
        "def preprocess_files_emidec(path_training, minf_cohort, save_path, cohort_name):\n",
        "    dataset=\"EMIDEC\"\n",
        "    patient_ids=[] \n",
        "    Label = []\n",
        "    images = []  # store the images and the segmentations for ED and ES separately - for the future experiments\n",
        "    segs =[] \n",
        "    segs_scar =[]\n",
        "    shape_img=[] \n",
        "    shape_gt = []\n",
        "\n",
        "    #save_path = \"/content/gdrive/MyDrive/EMIDEC/Emidec_DATASET/processed_emidec_dataset/Training_cropped\"\n",
        "    #data = np.zeros((nb_patients,428,512,25)) # PREPROCESSING NEEDED : BOUNDARY BOX\n",
        "\n",
        "\n",
        "    for j in range(len(minf_cohort)):\n",
        "          path_files = os.path.join(path_training, minf_cohort[j] )\n",
        "          patient_id = minf_cohort[j]\n",
        " \n",
        "          print('%s with %s'%(patient_id, cohort_name))  \n",
        "\n",
        "          [cropped_img, cropped_gt, cropped_gt_scar] = create_patches_emidec(path_files, patient_id, dataset)\n",
        "\n",
        "          #\n",
        "          cropped_arr =  sitk.GetArrayFromImage(cropped_img)\n",
        "          cropped_gt_arr = sitk.GetArrayFromImage(cropped_gt)\n",
        "\n",
        "          #################################################################################################\n",
        "          # multiply mask and ground truth to remove LV blood pool from the image = only for EMIDEC dataset\n",
        "          #multiply = sitk.MultiplyImageFilter()\n",
        "          #cropped_gt_casted = sitk.Cast(cropped_gt, sitk.sitkFloat64)\n",
        "          \n",
        "          #new_img = multiply.Execute(cropped_img, cropped_gt_casted)\n",
        "          \n",
        "          #new_img_arr = sitk.GetArrayFromImage(new_img)\n",
        "          #################################################################################################\n",
        "\n",
        "          # Multiply scar segmentation with 1-label segmentation = Removes LV Blood pool from the segmentation \n",
        "          # This part is for visualization purposes\n",
        "          \n",
        "\n",
        "          filename_img = os.path.join(save_path,\"%s.nii.gz\" %(patient_id))\n",
        "          filename_gt = os.path.join(save_path,\"%s_gt.nii.gz\" %(patient_id))\n",
        "          #filename_img_org = os.path.join(save_path,\"%s_org.nii.gz\" %(patient_id))\n",
        "          filename_gt_scar = os.path.join(save_path,\"%s_gt_scar.nii.gz\" %(patient_id))\n",
        "          images.append(filename_img)\n",
        "          segs.append(filename_gt)\n",
        "          segs_scar.append(filename_gt_scar)\n",
        "\n",
        "          sitk.WriteImage(cropped_img, filename_img)\n",
        "          #sitk.WriteImage(cropped_img, filename_img_org)\n",
        "          sitk.WriteImage(cropped_gt, filename_gt)\n",
        "\n",
        "          sitk.WriteImage(cropped_gt_scar, filename_gt_scar)\n",
        "          \n",
        "          shape_img.append(cropped_arr.shape)\n",
        "          shape_gt.append(cropped_gt_arr.shape)\n",
        "\n",
        "         # if cohort_name ==\"MINF\":\n",
        "         #           value = 1\n",
        "         # else: \n",
        "         #       value = 0\n",
        "          \n",
        "         # Label.append(value)\n",
        "         # patient_ids.append(patient_id)\n",
        "\n",
        "\n",
        "    return images, segs, segs_scar, shape_img, shape_gt"
      ],
      "execution_count": null,
      "outputs": []
    },
    {
      "cell_type": "code",
      "metadata": {
        "id": "rNKSQN2Hc2nk"
      },
      "source": [
        "def preprocess_files_acdc(nb_healthy_acdc, NOR_path, NOR_cohort, save_path ):\n",
        "    cohort_name = \"NOR\"\n",
        "    dataset = \"ACDC\"\n",
        "    images_ED =[]\n",
        "    images_ES = []\n",
        "    segs_ED =[]\n",
        "    segs_ES = []\n",
        "    shape_ED=[]\n",
        "    shape_ED_gt=[]\n",
        "    shape_ES=[]\n",
        "    shape_ES_gt=[]\n",
        "    for i in range(nb_healthy_acdc):\n",
        "      patient = NOR_cohort[i]\n",
        "      #print('%s with %s'%(patient, cohort_name))  \n",
        "\n",
        "      [cropped_ED, cropped_ED_gt, ED, cropped_ES, cropped_ES_gt, ES] = create_patches_acdc(NOR_path, patient, dataset)\n",
        "\n",
        "      # ED\n",
        "      cropped_ED_arr =  sitk.GetArrayFromImage(cropped_ED)\n",
        "      cropped_ED_gt_arr = sitk.GetArrayFromImage(cropped_ED_gt)\n",
        "\n",
        "      filename_ED = os.path.join(save_path,\"%s_%s_frame%02d.nii.gz\" %(cohort_name, patient, ED))\n",
        "      filename_ED_gt = os.path.join(save_path,\"%s_%s_frame%02d_gt.nii.gz\" %(cohort_name, patient, ED))\n",
        "      \n",
        "      images_ED.append(filename_ED)\n",
        "      segs_ED.append(filename_ED_gt)\n",
        "\n",
        "      sitk.WriteImage(cropped_ED, filename_ED)\n",
        "      sitk.WriteImage(cropped_ED_gt, filename_ED_gt)\n",
        "\n",
        "      shape_ED.append(cropped_ED_arr.shape)\n",
        "      shape_ED_gt.append(cropped_ED_gt_arr.shape)\n",
        "\n",
        "      # ES\n",
        "      cropped_ES_arr =  sitk.GetArrayFromImage(cropped_ES)\n",
        "      cropped_ES_gt_arr = sitk.GetArrayFromImage(cropped_ES_gt)\n",
        "\n",
        "      filename_ES = os.path.join(save_path,\"%s_%s_frame%02d.nii.gz\" %(cohort_name, patient, ES))\n",
        "      filename_ES_gt = os.path.join(save_path,\"%s_%s_frame%02d_gt.nii.gz\" %(cohort_name, patient, ES))\n",
        "      \n",
        "      images_ES.append(filename_ES)\n",
        "      segs_ES.append(filename_ES_gt)\n",
        "\n",
        "      sitk.WriteImage(cropped_ES, filename_ES)\n",
        "      sitk.WriteImage(cropped_ES_gt, filename_ES_gt)\n",
        "\n",
        "      #Diagnosis.append(cohort_name)\n",
        "\n",
        "      shape_ES.append(cropped_ES_arr.shape)\n",
        "      shape_ES_gt.append(cropped_ES_gt_arr.shape)\n",
        "      \n",
        "      \n",
        "     # patient_ids.append(patient)\n",
        "    return images_ED, images_ES, segs_ED, segs_ES, shape_ED, shape_ES\n"
      ],
      "execution_count": null,
      "outputs": []
    },
    {
      "cell_type": "markdown",
      "metadata": {
        "id": "HEGklGJ0wkK1"
      },
      "source": [
        "# **Emidec - MINF**"
      ]
    },
    {
      "cell_type": "markdown",
      "metadata": {
        "id": "EmDy9bTQws8B"
      },
      "source": [
        ""
      ]
    },
    {
      "cell_type": "code",
      "metadata": {
        "id": "hb5bwMQdw8qq"
      },
      "source": [
        "emidec_path = \"/content/gdrive/MyDrive/EMIDEC/Emidec_DATASET/Training\"  \n",
        "save_crop_emidec = \"/content/gdrive/MyDrive/Synthetic Data/syn_python/EMIDEC_cropped/\"\n"
      ],
      "execution_count": null,
      "outputs": []
    },
    {
      "cell_type": "code",
      "metadata": {
        "id": "5OlidXqiw6NZ"
      },
      "source": [
        "path_files = os.listdir(emidec_path)\n",
        "\n",
        "folders =  [f for f in os.listdir(emidec_path) if not f.endswith('.txt')]# the others are the patient folders\n",
        "folders.sort()\n",
        "healthy_cohort =  [param for param in folders if param.split(\"_\")[1].startswith('N')] # the ones start with N (after _) are healthy\n",
        "minf_cohort = [param for param in folders if param.split(\"_\")[1].startswith('P')] # the ones start with P are MINF\n",
        "nb_healthy_emidec =  len(healthy_cohort)\n",
        "nb_minf_emidec = len(minf_cohort)"
      ],
      "execution_count": null,
      "outputs": []
    },
    {
      "cell_type": "code",
      "metadata": {
        "colab": {
          "base_uri": "https://localhost:8080/"
        },
        "id": "U1QV1qa2xZJy",
        "outputId": "c1f0f2a5-8feb-43da-aeae-effea6d081d9"
      },
      "source": [
        "print(f\"There are {nb_healthy_emidec} healthy and {nb_minf_emidec} heart attack patients in the dataset.\")"
      ],
      "execution_count": null,
      "outputs": [
        {
          "output_type": "stream",
          "text": [
            "There are 33 healthy and 67 heart attack patients in the dataset.\n"
          ],
          "name": "stdout"
        }
      ]
    },
    {
      "cell_type": "code",
      "metadata": {
        "id": "Z-waAX8_NCub"
      },
      "source": [
        "# Take only the scar\n",
        "patient_id = minf_cohort[1]\n",
        "low_thresh = 0\n",
        "up_thresh = 2\n",
        "path_binmask = \"/content/gdrive/MyDrive/Synthetic Data/syn_python/\"\n",
        "path_file = os.path.join(emidec_path, minf_cohort[1] )\n",
        "img_path = os.path.join(path_file, \"Images\",\"%s.nii.gz\" %(minf_cohort[1]))\n",
        "gt_path =os.path.join(path_file, \"Contours\",\"%s.nii.gz\" %(minf_cohort[1])) # Directory of Ground truth\n",
        "gt_img = nii_reader(gt_path)\n",
        "dataset = \"EMIDEC\"\n",
        "m1 = mask_operations(gt_img, patient_id, path_binmask, dataset , low_thresh, up_thresh)"
      ],
      "execution_count": null,
      "outputs": []
    },
    {
      "cell_type": "code",
      "metadata": {
        "id": "DEKNXDf8Hdie"
      },
      "source": [
        "images_minf, segs_minf, segs_scar_minf, shape_img_minf, shape_gt_minf= preprocess_files_emidec(emidec_path, minf_cohort, save_crop_emidec, cohort_name='MINF')\n",
        "\n"
      ],
      "execution_count": null,
      "outputs": []
    },
    {
      "cell_type": "markdown",
      "metadata": {
        "id": "05vRF-xh4ZLe"
      },
      "source": [
        "# **ACDC - NOR**"
      ]
    },
    {
      "cell_type": "code",
      "metadata": {
        "id": "BONozkVO4gyk"
      },
      "source": [
        "root_acdc = \"/content/gdrive/My Drive/DATA/ACDC/processed_acdc_dataset/Patient_Groups/\"\n",
        "NOR_path = os.path.join(root_acdc, \"NOR\")\n",
        "save_crop_acdc = \"/content/gdrive/MyDrive/Synthetic Data/syn_python/ACDC_cropped/\""
      ],
      "execution_count": null,
      "outputs": []
    },
    {
      "cell_type": "code",
      "metadata": {
        "colab": {
          "base_uri": "https://localhost:8080/"
        },
        "id": "YoRp80Wn52il",
        "outputId": "e2f27fde-7b14-4c33-8755-5fadc683fcc8"
      },
      "source": [
        "nb_healthy_acdc = len(next(os.walk(NOR_path))[1])\n",
        "print(f\"There are {nb_healthy_acdc} healthy cases in ACDC.\")"
      ],
      "execution_count": null,
      "outputs": [
        {
          "output_type": "stream",
          "text": [
            "There are 20 healthy cases in ACDC.\n"
          ],
          "name": "stdout"
        }
      ]
    },
    {
      "cell_type": "code",
      "metadata": {
        "id": "5Cat3xIWfWDy"
      },
      "source": [
        "NOR_patients = os.listdir(NOR_path)"
      ],
      "execution_count": null,
      "outputs": []
    },
    {
      "cell_type": "code",
      "metadata": {
        "id": "53FaLvhnecz8"
      },
      "source": [
        "images_acdc_ED, images_acdc_ES, segs_acdc_ED, segs_acdc_ES, shape_ED_acdc, shape_ES_acdc = preprocess_files_acdc(nb_healthy_acdc, NOR_path, NOR_patients, save_crop_acdc )\n"
      ],
      "execution_count": null,
      "outputs": []
    },
    {
      "cell_type": "markdown",
      "metadata": {
        "id": "_qcFgz2BRdIQ"
      },
      "source": [
        "# **Synthetic Scar Generation**"
      ]
    },
    {
      "cell_type": "code",
      "metadata": {
        "id": "nEu_wJyuTYrF"
      },
      "source": [
        "acdc_selected = 19"
      ],
      "execution_count": null,
      "outputs": []
    },
    {
      "cell_type": "code",
      "metadata": {
        "id": "wKwNKSGqFdE0"
      },
      "source": [
        "def slice_getter(bp, slice_no):\n",
        "    index = []\n",
        "    bp_selected = []\n",
        "   # slice_no = 4\n",
        "    for i in range(len(bp)):\n",
        "        if bp[i][:][:][0] == slice_no:\n",
        "           index.append(i)\n",
        "           bp_selected.append(bp[i][:][:])\n",
        "          \n",
        "    #bp_selected = bp[index[:]]  \n",
        "    return bp_selected"
      ],
      "execution_count": null,
      "outputs": []
    },
    {
      "cell_type": "code",
      "metadata": {
        "colab": {
          "base_uri": "https://localhost:8080/"
        },
        "id": "F9pIPgFXQuJx",
        "outputId": "0bab0701-b3a7-40c2-d4c9-4b5f2e8bb741"
      },
      "source": [
        "shape_ED_acdc[acdc_selected]"
      ],
      "execution_count": null,
      "outputs": [
        {
          "output_type": "execute_result",
          "data": {
            "text/plain": [
              "(6, 42, 42)"
            ]
          },
          "metadata": {
            "tags": []
          },
          "execution_count": 1183
        }
      ]
    },
    {
      "cell_type": "code",
      "metadata": {
        "colab": {
          "base_uri": "https://localhost:8080/"
        },
        "id": "BCU-xwX1RJ9a",
        "outputId": "9d9a2496-af04-41e7-ed5f-26d17098cb7f"
      },
      "source": [
        "id=[]\n",
        "for i in range(len(shape_gt_minf)):\n",
        "    \n",
        "    if shape_gt_minf[i][0] == shape_ED_acdc[acdc_selected][0]: #### check if the slice numbers are the same\n",
        "       print(f\"SUCCESS!! i = {i}\")\n",
        "       id.append(i)"
      ],
      "execution_count": null,
      "outputs": [
        {
          "output_type": "stream",
          "text": [
            "SUCCESS!! i = 3\n",
            "SUCCESS!! i = 17\n",
            "SUCCESS!! i = 18\n",
            "SUCCESS!! i = 27\n",
            "SUCCESS!! i = 30\n",
            "SUCCESS!! i = 37\n",
            "SUCCESS!! i = 39\n",
            "SUCCESS!! i = 40\n",
            "SUCCESS!! i = 45\n",
            "SUCCESS!! i = 47\n",
            "SUCCESS!! i = 50\n",
            "SUCCESS!! i = 54\n",
            "SUCCESS!! i = 57\n",
            "SUCCESS!! i = 58\n",
            "SUCCESS!! i = 63\n"
          ],
          "name": "stdout"
        }
      ]
    },
    {
      "cell_type": "code",
      "metadata": {
        "colab": {
          "base_uri": "https://localhost:8080/"
        },
        "id": "UlPyBTe6TBOd",
        "outputId": "bfbfdc8c-090e-4c45-f964-f718dce3e4b3"
      },
      "source": [
        "id"
      ],
      "execution_count": null,
      "outputs": [
        {
          "output_type": "execute_result",
          "data": {
            "text/plain": [
              "[3, 17, 18, 27, 30, 37, 39, 40, 45, 47, 50, 54, 57, 58, 63]"
            ]
          },
          "metadata": {
            "tags": []
          },
          "execution_count": 1185
        }
      ]
    },
    {
      "cell_type": "code",
      "metadata": {
        "id": "Tv-xHSojTIWE"
      },
      "source": [
        "minf_selected = random.choice(id)"
      ],
      "execution_count": null,
      "outputs": []
    },
    {
      "cell_type": "code",
      "metadata": {
        "colab": {
          "base_uri": "https://localhost:8080/"
        },
        "id": "mKToBgjJTNaM",
        "outputId": "fac39287-94e3-491b-ecac-2c39ea57afb7"
      },
      "source": [
        "minf_selected"
      ],
      "execution_count": null,
      "outputs": [
        {
          "output_type": "execute_result",
          "data": {
            "text/plain": [
              "3"
            ]
          },
          "metadata": {
            "tags": []
          },
          "execution_count": 1187
        }
      ]
    },
    {
      "cell_type": "code",
      "metadata": {
        "id": "iaq4krWP5PWi"
      },
      "source": [
        "##### \n",
        "# EMIDEC: \n",
        "# label 1 : LV Blood pool\n",
        "# label 2: MYO\n",
        "# label 3 & 4: SCAR\n",
        "\n",
        "# ACDC:\n",
        "# label 1: MYO\n",
        "# label 2: LV Blood pool\n",
        "##### ACDC\n",
        "#ED\n",
        "img_ED_org = nii_reader(images_acdc_ED[acdc_selected])\n",
        "img_ED = sitk.GetArrayFromImage(img_ED_org)\n",
        "img_gt_ED_org = nii_reader(segs_acdc_ED[acdc_selected])\n",
        "img_gt_ED = sitk.GetArrayFromImage(img_gt_ED_org)\n",
        "#ES\n",
        "img_ES_org = nii_reader(images_acdc_ES[acdc_selected])\n",
        "img_ES = sitk.GetArrayFromImage(img_ES_org)\n",
        "img_gt_ES_org = nii_reader(segs_acdc_ES[acdc_selected])\n",
        "img_gt_ES = sitk.GetArrayFromImage(img_gt_ES_org)\n",
        "##### EMIDEC\n",
        "img_minf_org = nii_reader(images_minf[minf_selected])\n",
        "img_minf = sitk.GetArrayFromImage(img_minf_org)\n",
        "gt_minf_org = nii_reader(segs_scar_minf[minf_selected])\n",
        "gt_minf = sitk.GetArrayFromImage(gt_minf_org)"
      ],
      "execution_count": null,
      "outputs": []
    },
    {
      "cell_type": "code",
      "metadata": {
        "colab": {
          "base_uri": "https://localhost:8080/"
        },
        "id": "xxHqQdmJe63E",
        "outputId": "0059727f-c272-4ba4-cf49-27113411abcf"
      },
      "source": [
        "img_ES.shape"
      ],
      "execution_count": null,
      "outputs": [
        {
          "output_type": "execute_result",
          "data": {
            "text/plain": [
              "(6, 37, 36)"
            ]
          },
          "metadata": {
            "tags": []
          },
          "execution_count": 1189
        }
      ]
    },
    {
      "cell_type": "code",
      "metadata": {
        "colab": {
          "base_uri": "https://localhost:8080/",
          "height": 35
        },
        "id": "yc7XePbMe_1K",
        "outputId": "310e8d28-5feb-49de-8e85-9e1de0ebfe7d"
      },
      "source": [
        "images_acdc_ES[7]"
      ],
      "execution_count": null,
      "outputs": [
        {
          "output_type": "execute_result",
          "data": {
            "application/vnd.google.colaboratory.intrinsic+json": {
              "type": "string"
            },
            "text/plain": [
              "'/content/gdrive/MyDrive/Synthetic Data/syn_python/ACDC_cropped/NOR_patient068_frame12.nii.gz'"
            ]
          },
          "metadata": {
            "tags": []
          },
          "execution_count": 1190
        }
      ]
    },
    {
      "cell_type": "code",
      "metadata": {
        "colab": {
          "base_uri": "https://localhost:8080/",
          "height": 35
        },
        "id": "qRj0I-sofCvl",
        "outputId": "77f1358a-3890-4b7a-c3c6-53333afe4ebc"
      },
      "source": [
        "segs_acdc_ES[7]"
      ],
      "execution_count": null,
      "outputs": [
        {
          "output_type": "execute_result",
          "data": {
            "application/vnd.google.colaboratory.intrinsic+json": {
              "type": "string"
            },
            "text/plain": [
              "'/content/gdrive/MyDrive/Synthetic Data/syn_python/ACDC_cropped/NOR_patient068_frame12_gt.nii.gz'"
            ]
          },
          "metadata": {
            "tags": []
          },
          "execution_count": 1191
        }
      ]
    },
    {
      "cell_type": "code",
      "metadata": {
        "colab": {
          "base_uri": "https://localhost:8080/"
        },
        "id": "HD3lQWMbJUDK",
        "outputId": "a0d5a4ab-9b0a-42fa-a894-d821e4b8e94a"
      },
      "source": [
        "gt_minf.shape"
      ],
      "execution_count": null,
      "outputs": [
        {
          "output_type": "execute_result",
          "data": {
            "text/plain": [
              "(6, 55, 52)"
            ]
          },
          "metadata": {
            "tags": []
          },
          "execution_count": 1192
        }
      ]
    },
    {
      "cell_type": "code",
      "metadata": {
        "colab": {
          "base_uri": "https://localhost:8080/"
        },
        "id": "iMLkqX8bKs4P",
        "outputId": "b7160bfc-d98e-4432-9a59-40314ac4981d"
      },
      "source": [
        "img_gt_ED.shape"
      ],
      "execution_count": null,
      "outputs": [
        {
          "output_type": "execute_result",
          "data": {
            "text/plain": [
              "(6, 42, 42)"
            ]
          },
          "metadata": {
            "tags": []
          },
          "execution_count": 1193
        }
      ]
    },
    {
      "cell_type": "code",
      "metadata": {
        "colab": {
          "base_uri": "https://localhost:8080/"
        },
        "id": "OR4UeDvJctoi",
        "outputId": "32e755ce-e128-490d-f1c6-16012b7d185b"
      },
      "source": [
        "img_gt_ES.shape"
      ],
      "execution_count": null,
      "outputs": [
        {
          "output_type": "execute_result",
          "data": {
            "text/plain": [
              "(6, 37, 36)"
            ]
          },
          "metadata": {
            "tags": []
          },
          "execution_count": 1194
        }
      ]
    },
    {
      "cell_type": "code",
      "metadata": {
        "id": "UkfgwbuhEA_V"
      },
      "source": [
        "### Make the array in the same size!!!\n",
        "new_gt_minf_ED = zoom(gt_minf, (img_gt_ED.shape[0]/gt_minf.shape[0], img_gt_ED.shape[1]/gt_minf.shape[1], img_gt_ED.shape[2]/gt_minf.shape[2]))\n",
        "new_img_minf_ED = zoom(img_minf, (img_gt_ED.shape[0]/gt_minf.shape[0], img_gt_ED.shape[1]/gt_minf.shape[1], img_gt_ED.shape[2]/gt_minf.shape[2]))\n",
        "###\n",
        "new_gt_minf_ES = zoom(gt_minf, (img_gt_ES.shape[0]/gt_minf.shape[0], img_gt_ES.shape[1]/gt_minf.shape[1], img_gt_ES.shape[2]/gt_minf.shape[2]))\n",
        "new_img_minf_ES = zoom(img_minf, (img_gt_ES.shape[0]/gt_minf.shape[0], img_gt_ES.shape[1]/gt_minf.shape[1], img_gt_ES.shape[2]/gt_minf.shape[2]))"
      ],
      "execution_count": null,
      "outputs": []
    },
    {
      "cell_type": "code",
      "metadata": {
        "colab": {
          "base_uri": "https://localhost:8080/"
        },
        "id": "NhbqzNYReEoQ",
        "outputId": "352d461a-1a27-4b8d-aaa5-e472dae70ccf"
      },
      "source": [
        "new_img_minf_ES.shape"
      ],
      "execution_count": null,
      "outputs": [
        {
          "output_type": "execute_result",
          "data": {
            "text/plain": [
              "(6, 37, 36)"
            ]
          },
          "metadata": {
            "tags": []
          },
          "execution_count": 1196
        }
      ]
    },
    {
      "cell_type": "code",
      "metadata": {
        "id": "XvhpBqNbp7zU"
      },
      "source": [
        "img_ED_syn = img_ED\n",
        "img_gt_ED_syn = img_gt_ED\n",
        "###\n",
        "img_ES_syn = img_ES\n",
        "img_gt_ES_syn = img_gt_ES\n",
        "###\n",
        "bloodpool_ED = np.zeros(new_gt_minf_ED.shape)\n",
        "bloodpool_ED[img_gt_ED==2]=img_gt_ED[img_gt_ED==2]\n",
        "bp_ED = np.transpose(np.asanyarray(np.nonzero(bloodpool_ED)))\n",
        "bp_ED = list(bp_ED)\n",
        "###\n",
        "bloodpool_ES = np.zeros(new_gt_minf_ES.shape)\n",
        "bloodpool_ES[img_gt_ES==2]=img_gt_ES[img_gt_ES==2]\n",
        "bp_ES = np.transpose(np.asanyarray(np.nonzero(bloodpool_ES)))\n",
        "bp_ES = list(bp_ES)"
      ],
      "execution_count": null,
      "outputs": []
    },
    {
      "cell_type": "code",
      "metadata": {
        "id": "MnBcZYDlT88I"
      },
      "source": [
        "for i in range(img_ED.shape[0]):\n",
        "    #\n",
        "   for j in range(img_ED.shape[1]):\n",
        "     for k in range(img_ED.shape[2]):\n",
        "         \n",
        "         if new_gt_minf_ED[i, j, k]>2:\n",
        "            if img_gt_ED[i,j,k] ==1: # if the detected pixel is in myocardium in the original image then change it\n",
        "                bp_selected_ED = slice_getter(bp_ED, i)\n",
        "                index_ED = np.argmin(np.sum((np.array(bp_selected_ED) - np.array([i, j, k]))**2, axis=1))\n",
        "                a,b,c = bp_selected_ED[index_ED]\n",
        "                img_ED_syn[i,j,k] = img_ED[i, b, c] # closest point inside the blood pool\n",
        "                img_gt_ED_syn[i,j,k] = 3\n",
        "            else:\n",
        "                pass\n",
        "             \n",
        "            \n",
        "            #find nearest point in gt_ED == 2 and take that pixel\n",
        "            \n",
        "           # np.mean(img_ED[img_gt_ED==2]) - random.choice(range(np.min(img_ED[img_gt_ED==2])+30, np.max(img_ED[img_gt_ED==2])-100))"
      ],
      "execution_count": null,
      "outputs": []
    },
    {
      "cell_type": "code",
      "metadata": {
        "id": "pl7QoH1QbgLB"
      },
      "source": [
        "for d in range(img_ES.shape[0]):\n",
        "    #\n",
        "   for f in range(img_ES.shape[1]):\n",
        "     for g in range(img_ES.shape[2]):\n",
        "        \n",
        "         if new_gt_minf_ES[d, f, g]>2:\n",
        "            if img_gt_ES[d,f,g] ==1: # if the detected pixel is in myocardium in the original image then change it\n",
        "                bp_selected_ES = slice_getter(bp_ES, d)\n",
        "                index_ES = np.argmin(np.sum((np.array(bp_selected_ES) - np.array([d, f, g]))**2, axis=1))\n",
        "                a_,b_,c_ = bp_selected_ES[index_ES]\n",
        "                img_ES_syn[d,f,g] = img_ES[d, b_, c_] # closest point inside the blood pool\n",
        "                img_gt_ES_syn[d,f,g] = 3\n",
        "            else:\n",
        "                pass"
      ],
      "execution_count": null,
      "outputs": []
    },
    {
      "cell_type": "code",
      "metadata": {
        "colab": {
          "base_uri": "https://localhost:8080/",
          "height": 285
        },
        "id": "fVHIzwJ9Nnuu",
        "outputId": "e840ea40-47d3-41cd-8acc-4b63ff4a22cf"
      },
      "source": [
        "plt.imshow(img_ED_syn[3,:,:], cmap=\"gray\")"
      ],
      "execution_count": null,
      "outputs": [
        {
          "output_type": "execute_result",
          "data": {
            "text/plain": [
              "<matplotlib.image.AxesImage at 0x7f7edf241790>"
            ]
          },
          "metadata": {
            "tags": []
          },
          "execution_count": 1200
        },
        {
          "output_type": "display_data",
          "data": {
            "image/png": "[encoded data removed]",
            "text/plain": [
              "<Figure size 432x288 with 1 Axes>"
            ]
          },
          "metadata": {
            "tags": [],
            "needs_background": "light"
          }
        }
      ]
    },
    {
      "cell_type": "code",
      "metadata": {
        "colab": {
          "base_uri": "https://localhost:8080/",
          "height": 287
        },
        "id": "9i7ol6u3QCR1",
        "outputId": "d32d89de-7b5f-4402-b914-4bc7570d2e15"
      },
      "source": [
        "plt.imshow(img_gt_ED_syn[3,:,:], cmap=\"jet\")\n",
        "plt.colorbar()"
      ],
      "execution_count": null,
      "outputs": [
        {
          "output_type": "execute_result",
          "data": {
            "text/plain": [
              "<matplotlib.colorbar.Colorbar at 0x7f7edf1d7ad0>"
            ]
          },
          "metadata": {
            "tags": []
          },
          "execution_count": 1201
        },
        {
          "output_type": "display_data",
          "data": {
            "image/png": "[encoded data removed]",
            "text/plain": [
              "<Figure size 432x288 with 2 Axes>"
            ]
          },
          "metadata": {
            "tags": [],
            "needs_background": "light"
          }
        }
      ]
    },
    {
      "cell_type": "code",
      "metadata": {
        "colab": {
          "base_uri": "https://localhost:8080/",
          "height": 285
        },
        "id": "UgfJfesLb23P",
        "outputId": "5542bbbb-1098-4d4c-b6e2-81545e7825eb"
      },
      "source": [
        "plt.imshow(img_ES_syn[3,:,:], cmap=\"gray\")"
      ],
      "execution_count": null,
      "outputs": [
        {
          "output_type": "execute_result",
          "data": {
            "text/plain": [
              "<matplotlib.image.AxesImage at 0x7f7edf163550>"
            ]
          },
          "metadata": {
            "tags": []
          },
          "execution_count": 1202
        },
        {
          "output_type": "display_data",
          "data": {
            "image/png": "[encoded data removed]",
            "text/plain": [
              "<Figure size 432x288 with 1 Axes>"
            ]
          },
          "metadata": {
            "tags": [],
            "needs_background": "light"
          }
        }
      ]
    },
    {
      "cell_type": "code",
      "metadata": {
        "colab": {
          "base_uri": "https://localhost:8080/",
          "height": 287
        },
        "id": "7j6nVFM4b5QZ",
        "outputId": "fd6f06c2-a57f-47cf-96db-47045abd655f"
      },
      "source": [
        "plt.imshow(img_gt_ES_syn[3,:,:], cmap=\"jet\")\n",
        "plt.colorbar()"
      ],
      "execution_count": null,
      "outputs": [
        {
          "output_type": "execute_result",
          "data": {
            "text/plain": [
              "<matplotlib.colorbar.Colorbar at 0x7f7edf081ed0>"
            ]
          },
          "metadata": {
            "tags": []
          },
          "execution_count": 1203
        },
        {
          "output_type": "display_data",
          "data": {
            "image/png": "[encoded data removed]",
            "text/plain": [
              "<Figure size 432x288 with 2 Axes>"
            ]
          },
          "metadata": {
            "tags": [],
            "needs_background": "light"
          }
        }
      ]
    },
    {
      "cell_type": "code",
      "metadata": {
        "id": "1r2xdEOiM_2n"
      },
      "source": [
        "img_new_syn_ED = sitk.GetImageFromArray(img_ED_syn)\n",
        "img_new_syn_ED.CopyInformation(img_ED_org)\n",
        "gt_new_syn_ED  = sitk.GetImageFromArray(img_gt_ED_syn)\n",
        "gt_new_syn_ED.CopyInformation(img_gt_ED_org)\n",
        "###\n",
        "img_new_syn_ES = sitk.GetImageFromArray(img_ES_syn)\n",
        "img_new_syn_ES.CopyInformation(img_ES_org)\n",
        "gt_new_syn_ES = sitk.GetImageFromArray(img_gt_ES_syn)\n",
        "gt_new_syn_ES.CopyInformation(img_gt_ES_org)\n",
        "# Save the images and the segmentations\n",
        "save_path_root = \"/content/gdrive/MyDrive/Synthetic Data/syn_python/syn_scar/\"\n",
        "save_path_img_ED = save_path_root + \"patient\" + \"%d\"%acdc_selected + \"_ED.nii.gz\"\n",
        "save_path_gt_ED = save_path_root + \"patient\" + \"%d\"%acdc_selected + \"_ED_gt.nii.gz\"\n",
        "sitk.WriteImage(img_new_syn_ED, save_path_img_ED)\n",
        "sitk.WriteImage(gt_new_syn_ED, save_path_gt_ED)\n",
        "### ES\n",
        "save_path_img_ES = save_path_root + \"patient\" + \"%d\"%acdc_selected + \"_ES.nii.gz\"\n",
        "save_path_gt_ES = save_path_root + \"patient\" + \"%d\"%acdc_selected + \"_ES_gt.nii.gz\"\n",
        "sitk.WriteImage(img_new_syn_ES, save_path_img_ES)\n",
        "sitk.WriteImage(gt_new_syn_ES, save_path_gt_ES)"
      ],
      "execution_count": null,
      "outputs": []
    },
    {
      "cell_type": "markdown",
      "metadata": {
        "id": "i22y0yJshYvu"
      },
      "source": [
        "# **Thickened myocardium**"
      ]
    },
    {
      "cell_type": "code",
      "metadata": {
        "id": "lNqX3j9aiTXi"
      },
      "source": [
        "acdc_selected = 19"
      ],
      "execution_count": null,
      "outputs": []
    },
    {
      "cell_type": "code",
      "metadata": {
        "id": "YsPMBRo1hkN9"
      },
      "source": [
        "##### \n",
        "\n",
        "# ACDC:\n",
        "# label 1: MYO\n",
        "# label 2: LV Blood pool\n",
        "##### ACDC\n",
        "#ED\n",
        "img_ED_org = nii_reader(images_acdc_ED[acdc_selected])\n",
        "img_ED = sitk.GetArrayFromImage(img_ED_org)\n",
        "img_gt_ED_org = nii_reader(segs_acdc_ED[acdc_selected])\n",
        "img_gt_ED = sitk.GetArrayFromImage(img_gt_ED_org)\n",
        "#ES\n",
        "img_ES_org = nii_reader(images_acdc_ES[acdc_selected])\n",
        "img_ES = sitk.GetArrayFromImage(img_ES_org)\n",
        "img_gt_ES_org = nii_reader(segs_acdc_ES[acdc_selected])\n",
        "img_gt_ES = sitk.GetArrayFromImage(img_gt_ES_org)\n"
      ],
      "execution_count": null,
      "outputs": []
    },
    {
      "cell_type": "code",
      "metadata": {
        "colab": {
          "base_uri": "https://localhost:8080/",
          "height": 285
        },
        "id": "eLLILgMuyc71",
        "outputId": "ea979163-0509-4894-8e87-468fbbc0e57a"
      },
      "source": [
        "plt.imshow(img_ED[4,:,:], cmap=\"gray\")"
      ],
      "execution_count": null,
      "outputs": [
        {
          "output_type": "execute_result",
          "data": {
            "text/plain": [
              "<matplotlib.image.AxesImage at 0x7f7eda16fcd0>"
            ]
          },
          "metadata": {
            "tags": []
          },
          "execution_count": 1605
        },
        {
          "output_type": "display_data",
          "data": {
            "image/png": "[encoded data removed]",
            "text/plain": [
              "<Figure size 432x288 with 1 Axes>"
            ]
          },
          "metadata": {
            "tags": [],
            "needs_background": "light"
          }
        }
      ]
    },
    {
      "cell_type": "code",
      "metadata": {
        "id": "0ulnwXUUh_Ot"
      },
      "source": [
        "img_ED_syn = img_ED\n",
        "img_gt_ED_syn = img_gt_ED\n",
        "###\n",
        "img_ES_syn = img_ES\n",
        "img_gt_ES_syn = img_gt_ES\n",
        "###\n",
        "myo_ED = np.zeros(img_ED_syn.shape)\n",
        "myo_ED[img_gt_ED==1]=img_gt_ED[img_gt_ED==1]\n",
        "bp_ED = np.transpose(np.asanyarray(np.nonzero(myo_ED)))\n",
        "bp_ED = list(bp_ED)\n",
        "###\n",
        "myo_ES = np.zeros(img_gt_ES_syn.shape)\n",
        "myo_ES[img_gt_ES==1]=img_gt_ES[img_gt_ES==1]\n",
        "bp_ES = np.transpose(np.asanyarray(np.nonzero(myo_ES)))\n",
        "bp_ES = list(bp_ES)"
      ],
      "execution_count": null,
      "outputs": []
    },
    {
      "cell_type": "code",
      "metadata": {
        "colab": {
          "base_uri": "https://localhost:8080/",
          "height": 285
        },
        "id": "L_KaVEACjl7U",
        "outputId": "f5dba08b-534a-4568-da70-56a91614602d"
      },
      "source": [
        "plt.imshow(myo_ED[4,:,:])"
      ],
      "execution_count": null,
      "outputs": [
        {
          "output_type": "execute_result",
          "data": {
            "text/plain": [
              "<matplotlib.image.AxesImage at 0x7f7edbd0a250>"
            ]
          },
          "metadata": {
            "tags": []
          },
          "execution_count": 1607
        },
        {
          "output_type": "display_data",
          "data": {
            "image/png": "[encoded data removed]",
            "text/plain": [
              "<Figure size 432x288 with 1 Axes>"
            ]
          },
          "metadata": {
            "tags": [],
            "needs_background": "light"
          }
        }
      ]
    },
    {
      "cell_type": "code",
      "metadata": {
        "id": "yoNStZxyvt_7"
      },
      "source": [
        "SE = cv2.getStructuringElement(cv2.MORPH_ELLIPSE,(5,5))\n",
        "myo_ED_dilated = cv2.dilate(myo_ED,SE)"
      ],
      "execution_count": null,
      "outputs": []
    },
    {
      "cell_type": "code",
      "metadata": {
        "colab": {
          "base_uri": "https://localhost:8080/",
          "height": 285
        },
        "id": "Wg-5QNGHvwwb",
        "outputId": "037963d6-d2a1-46ce-bd51-00cedc1cd879"
      },
      "source": [
        "plt.imshow(myo_ED_dilated[4,:,:])"
      ],
      "execution_count": null,
      "outputs": [
        {
          "output_type": "execute_result",
          "data": {
            "text/plain": [
              "<matplotlib.image.AxesImage at 0x7f7eda0cfc50>"
            ]
          },
          "metadata": {
            "tags": []
          },
          "execution_count": 1609
        },
        {
          "output_type": "display_data",
          "data": {
            "image/png": "[encoded data removed]",
            "text/plain": [
              "<Figure size 432x288 with 1 Axes>"
            ]
          },
          "metadata": {
            "tags": [],
            "needs_background": "light"
          }
        }
      ]
    },
    {
      "cell_type": "code",
      "metadata": {
        "id": "q5wS2gy6zb2R"
      },
      "source": [
        "SE = cv2.getStructuringElement(cv2.MORPH_ELLIPSE,(4,4))\n",
        "myo_ES_dilated = cv2.dilate(myo_ES,SE)"
      ],
      "execution_count": null,
      "outputs": []
    },
    {
      "cell_type": "code",
      "metadata": {
        "colab": {
          "base_uri": "https://localhost:8080/",
          "height": 285
        },
        "id": "s5geZDmLzkl9",
        "outputId": "9697ce16-9583-4d75-d125-f1b6cbfdda0d"
      },
      "source": [
        "plt.imshow(myo_ES[4,:,:])"
      ],
      "execution_count": null,
      "outputs": [
        {
          "output_type": "execute_result",
          "data": {
            "text/plain": [
              "<matplotlib.image.AxesImage at 0x7f7eda09c6d0>"
            ]
          },
          "metadata": {
            "tags": []
          },
          "execution_count": 1611
        },
        {
          "output_type": "display_data",
          "data": {
            "image/png": "[encoded data removed]",
            "text/plain": [
              "<Figure size 432x288 with 1 Axes>"
            ]
          },
          "metadata": {
            "tags": [],
            "needs_background": "light"
          }
        }
      ]
    },
    {
      "cell_type": "code",
      "metadata": {
        "colab": {
          "base_uri": "https://localhost:8080/",
          "height": 285
        },
        "id": "MOsGTZFSzqPw",
        "outputId": "d6fda258-558f-447f-c89c-1cd93a49d6e4"
      },
      "source": [
        "plt.imshow(myo_ES_dilated[4,:,:])"
      ],
      "execution_count": null,
      "outputs": [
        {
          "output_type": "execute_result",
          "data": {
            "text/plain": [
              "<matplotlib.image.AxesImage at 0x7f7eda004390>"
            ]
          },
          "metadata": {
            "tags": []
          },
          "execution_count": 1612
        },
        {
          "output_type": "display_data",
          "data": {
            "image/png": "[encoded data removed]",
            "text/plain": [
              "<Figure size 432x288 with 1 Axes>"
            ]
          },
          "metadata": {
            "tags": [],
            "needs_background": "light"
          }
        }
      ]
    },
    {
      "cell_type": "code",
      "metadata": {
        "id": "sedTvNLKikq9"
      },
      "source": [
        "for i in range(img_ED_syn.shape[0]):\n",
        "    #\n",
        "   for j in range(img_ED_syn.shape[1]):\n",
        "     for k in range(img_ED_syn.shape[2]):\n",
        "         \n",
        "         if myo_ED_dilated[i, j, k]==1:\n",
        "            if myo_ED[i,j,k]==1:\n",
        "               pass\n",
        "            else:\n",
        "             # if the detected pixel is in myocardium in the original image then change it\n",
        "                bp_selected_ED = slice_getter(bp_ED, i)\n",
        "                index_ED = np.argmin(np.sum((np.array(bp_selected_ED) - np.array([i, j, k]))**2, axis=1))\n",
        "                a,b,c = bp_selected_ED[index_ED]\n",
        "                img_ED_syn[i, j, k] = img_ED[i, b, c]# closest point myocardium\n",
        "                img_gt_ED_syn[i,j,k] = 1\n",
        "         else:\n",
        "                pass\n",
        "             \n",
        "            \n",
        "            #find nearest point in gt_ED == 2 and take that pixel\n",
        "            \n",
        "           # np.mean(img_ED[img_gt_ED==2]) - random.choice(range(np.min(img_ED[img_gt_ED==2])+30, np.max(img_ED[img_gt_ED==2])-100))"
      ],
      "execution_count": null,
      "outputs": []
    },
    {
      "cell_type": "code",
      "metadata": {
        "colab": {
          "base_uri": "https://localhost:8080/",
          "height": 285
        },
        "id": "YxCBzFvWkI9o",
        "outputId": "fbd21b38-5af6-4a07-d86c-c54a1877db27"
      },
      "source": [
        "plt.imshow(img_ED_syn[3,:,:], cmap=\"gray\")"
      ],
      "execution_count": null,
      "outputs": [
        {
          "output_type": "execute_result",
          "data": {
            "text/plain": [
              "<matplotlib.image.AxesImage at 0x7f7ed9fec510>"
            ]
          },
          "metadata": {
            "tags": []
          },
          "execution_count": 1614
        },
        {
          "output_type": "display_data",
          "data": {
            "image/png": "[encoded data removed]",
            "text/plain": [
              "<Figure size 432x288 with 1 Axes>"
            ]
          },
          "metadata": {
            "tags": [],
            "needs_background": "light"
          }
        }
      ]
    },
    {
      "cell_type": "code",
      "metadata": {
        "id": "OsWT6h8Lz5Mq"
      },
      "source": [
        "for i in range(img_ES_syn.shape[0]):\n",
        "    #\n",
        "   for j in range(img_ES_syn.shape[1]):\n",
        "     for k in range(img_ES_syn.shape[2]):\n",
        "         \n",
        "         if myo_ES_dilated[i, j, k]==1:\n",
        "            if myo_ES[i,j,k]==1:\n",
        "               pass\n",
        "            else:\n",
        "             # if the detected pixel is in myocardium in the original image then change it\n",
        "                bp_selected_ES = slice_getter(bp_ES, i)\n",
        "                index_ES = np.argmin(np.sum((np.array(bp_selected_ES) - np.array([i, j, k]))**2, axis=1))\n",
        "                a,b,c = bp_selected_ES[index_ES]\n",
        "                img_ES_syn[i, j, k] = img_ES[i, b, c]# closest point myocardium\n",
        "                img_gt_ES_syn[i,j,k] = 1\n",
        "         else:\n",
        "                pass\n",
        "             \n",
        "            \n",
        "            #find nearest point in gt_ED == 2 and take that pixel\n",
        "            \n",
        "           # np.mean(img_ED[img_gt_ED==2]) - random.choice(range(np.min(img_ED[img_gt_ED==2])+30, np.max(img_ED[img_gt_ED==2])-100))"
      ],
      "execution_count": null,
      "outputs": []
    },
    {
      "cell_type": "code",
      "metadata": {
        "colab": {
          "base_uri": "https://localhost:8080/",
          "height": 285
        },
        "id": "2HLRsnBl0GtC",
        "outputId": "668f6be0-ed49-42dc-bb5d-8e71e5a8a0fa"
      },
      "source": [
        "plt.imshow(img_ES_syn[3,:,:], cmap=\"gray\")"
      ],
      "execution_count": null,
      "outputs": [
        {
          "output_type": "execute_result",
          "data": {
            "text/plain": [
              "<matplotlib.image.AxesImage at 0x7f7ed9f5e190>"
            ]
          },
          "metadata": {
            "tags": []
          },
          "execution_count": 1616
        },
        {
          "output_type": "display_data",
          "data": {
            "image/png": "[encoded data removed]",
            "text/plain": [
              "<Figure size 432x288 with 1 Axes>"
            ]
          },
          "metadata": {
            "tags": [],
            "needs_background": "light"
          }
        }
      ]
    },
    {
      "cell_type": "code",
      "metadata": {
        "id": "x8pniYqL0Q2n"
      },
      "source": [
        "img_new_syn_ED = sitk.GetImageFromArray(img_ED_syn)\n",
        "img_new_syn_ED.CopyInformation(img_ED_org)\n",
        "gt_new_syn_ED  = sitk.GetImageFromArray(img_gt_ED_syn)\n",
        "gt_new_syn_ED.CopyInformation(img_gt_ED_org)\n",
        "###\n",
        "img_new_syn_ES = sitk.GetImageFromArray(img_ES_syn)\n",
        "img_new_syn_ES.CopyInformation(img_ES_org)\n",
        "gt_new_syn_ES = sitk.GetImageFromArray(img_gt_ES_syn)\n",
        "gt_new_syn_ES.CopyInformation(img_gt_ES_org)\n",
        "# Save the images and the segmentations\n",
        "save_path_root = \"/content/gdrive/MyDrive/Synthetic Data/syn_python/syn_dilated_myo/\"\n",
        "save_path_img_ED = save_path_root + \"patient\" + \"%d\"%acdc_selected + \"_ED.nii.gz\"\n",
        "save_path_gt_ED = save_path_root + \"patient\" + \"%d\"%acdc_selected + \"_ED_gt.nii.gz\"\n",
        "sitk.WriteImage(img_new_syn_ED, save_path_img_ED)\n",
        "sitk.WriteImage(gt_new_syn_ED, save_path_gt_ED)\n",
        "### ES\n",
        "save_path_img_ES = save_path_root + \"patient\" + \"%d\"%acdc_selected + \"_ES.nii.gz\"\n",
        "save_path_gt_ES = save_path_root + \"patient\" + \"%d\"%acdc_selected + \"_ES_gt.nii.gz\"\n",
        "sitk.WriteImage(img_new_syn_ES, save_path_img_ES)\n",
        "sitk.WriteImage(gt_new_syn_ES, save_path_gt_ES)"
      ],
      "execution_count": null,
      "outputs": []
    },
    {
      "cell_type": "markdown",
      "metadata": {
        "id": "gXHzilbI4ygM"
      },
      "source": [
        "# **Thin myocardium [Removed]**"
      ]
    },
    {
      "cell_type": "code",
      "metadata": {
        "id": "NaOIMGNa42RH"
      },
      "source": [
        "acdc_selected = 1"
      ],
      "execution_count": null,
      "outputs": []
    },
    {
      "cell_type": "code",
      "metadata": {
        "id": "Xleqyawa45G_"
      },
      "source": [
        "##### \n",
        "\n",
        "# ACDC:\n",
        "# label 1: MYO\n",
        "# label 2: LV Blood pool\n",
        "##### ACDC\n",
        "#ED\n",
        "img_ED_org = nii_reader(images_acdc_ED[acdc_selected])\n",
        "img_ED = sitk.GetArrayFromImage(img_ED_org)\n",
        "img_gt_ED_org = nii_reader(segs_acdc_ED[acdc_selected])\n",
        "img_gt_ED = sitk.GetArrayFromImage(img_gt_ED_org)\n",
        "#ES\n",
        "img_ES_org = nii_reader(images_acdc_ES[acdc_selected])\n",
        "img_ES = sitk.GetArrayFromImage(img_ES_org)\n",
        "img_gt_ES_org = nii_reader(segs_acdc_ES[acdc_selected])\n",
        "img_gt_ES = sitk.GetArrayFromImage(img_gt_ES_org)\n"
      ],
      "execution_count": null,
      "outputs": []
    },
    {
      "cell_type": "code",
      "metadata": {
        "colab": {
          "base_uri": "https://localhost:8080/",
          "height": 285
        },
        "id": "ECsgDFcy47jl",
        "outputId": "da552bd7-6026-4883-dd4e-9c70eee63352"
      },
      "source": [
        "plt.imshow(img_ED[4,:,:], cmap=\"gray\")"
      ],
      "execution_count": null,
      "outputs": [
        {
          "output_type": "execute_result",
          "data": {
            "text/plain": [
              "<matplotlib.image.AxesImage at 0x7f7ed95a87d0>"
            ]
          },
          "metadata": {
            "tags": []
          },
          "execution_count": 1669
        },
        {
          "output_type": "display_data",
          "data": {
            "image/png": "[encoded data removed]",
            "text/plain": [
              "<Figure size 432x288 with 1 Axes>"
            ]
          },
          "metadata": {
            "tags": [],
            "needs_background": "light"
          }
        }
      ]
    },
    {
      "cell_type": "code",
      "metadata": {
        "id": "vSx4n4J249-Q"
      },
      "source": [
        "img_ED_syn = img_ED\n",
        "img_gt_ED_syn = img_gt_ED\n",
        "###\n",
        "img_ES_syn = img_ES\n",
        "img_gt_ES_syn = img_gt_ES\n",
        "###\n",
        "bloodpool_ED = np.zeros(img_ED_syn.shape)\n",
        "bloodpool_ED[img_gt_ED==2]=img_gt_ED[img_gt_ED==2]\n",
        "bp_ED = np.transpose(np.asanyarray(np.nonzero(bloodpool_ED)))\n",
        "bp_ED = list(bp_ED)\n",
        "###\n",
        "bloodpool_ES = np.zeros(img_gt_ES_syn.shape)\n",
        "bloodpool_ES[img_gt_ES==2]=img_gt_ES[img_gt_ES==2]\n",
        "bp_ES = np.transpose(np.asanyarray(np.nonzero(bloodpool_ES)))\n",
        "bp_ES = list(bp_ES)"
      ],
      "execution_count": null,
      "outputs": []
    },
    {
      "cell_type": "code",
      "metadata": {
        "colab": {
          "base_uri": "https://localhost:8080/",
          "height": 285
        },
        "id": "HfH4DRoy4-1T",
        "outputId": "62c3567c-7c9f-44e6-c420-a852bc64cf97"
      },
      "source": [
        "plt.imshow(bloodpool_ED[4,:,:])"
      ],
      "execution_count": null,
      "outputs": [
        {
          "output_type": "execute_result",
          "data": {
            "text/plain": [
              "<matplotlib.image.AxesImage at 0x7f7ed953b810>"
            ]
          },
          "metadata": {
            "tags": []
          },
          "execution_count": 1671
        },
        {
          "output_type": "display_data",
          "data": {
            "image/png": "[encoded data removed]",
            "text/plain": [
              "<Figure size 432x288 with 1 Axes>"
            ]
          },
          "metadata": {
            "tags": [],
            "needs_background": "light"
          }
        }
      ]
    },
    {
      "cell_type": "code",
      "metadata": {
        "id": "6A-u0NKd5FF3"
      },
      "source": [
        "SE = cv2.getStructuringElement(cv2.MORPH_ELLIPSE,(5,5))\n",
        "bloodpool_ED_dilated = cv2.dilate(bloodpool_ED,SE)"
      ],
      "execution_count": null,
      "outputs": []
    },
    {
      "cell_type": "code",
      "metadata": {
        "colab": {
          "base_uri": "https://localhost:8080/",
          "height": 285
        },
        "id": "NLRqh8P95F1h",
        "outputId": "fe85cc5d-6602-4316-ffde-2b7b6aafb522"
      },
      "source": [
        "plt.imshow(bloodpool_ED_dilated[4,:,:])"
      ],
      "execution_count": null,
      "outputs": [
        {
          "output_type": "execute_result",
          "data": {
            "text/plain": [
              "<matplotlib.image.AxesImage at 0x7f7ed949e750>"
            ]
          },
          "metadata": {
            "tags": []
          },
          "execution_count": 1673
        },
        {
          "output_type": "display_data",
          "data": {
            "image/png": "[encoded data removed]",
            "text/plain": [
              "<Figure size 432x288 with 1 Axes>"
            ]
          },
          "metadata": {
            "tags": [],
            "needs_background": "light"
          }
        }
      ]
    },
    {
      "cell_type": "code",
      "metadata": {
        "id": "0j8s2ind5QY3"
      },
      "source": [
        "SE = cv2.getStructuringElement(cv2.MORPH_ELLIPSE,(4,4))\n",
        "bloodpool_ES_dilated = cv2.dilate(bloodpool_ES,SE)"
      ],
      "execution_count": null,
      "outputs": []
    },
    {
      "cell_type": "code",
      "metadata": {
        "colab": {
          "base_uri": "https://localhost:8080/",
          "height": 285
        },
        "id": "1d7jkjjx5RCR",
        "outputId": "a0004ea4-0620-4ffc-ad67-c6acdb34276c"
      },
      "source": [
        "plt.imshow(bloodpool_ES[4,:,:])"
      ],
      "execution_count": null,
      "outputs": [
        {
          "output_type": "execute_result",
          "data": {
            "text/plain": [
              "<matplotlib.image.AxesImage at 0x7f7ed9407690>"
            ]
          },
          "metadata": {
            "tags": []
          },
          "execution_count": 1675
        },
        {
          "output_type": "display_data",
          "data": {
            "image/png": "[encoded data removed]",
            "text/plain": [
              "<Figure size 432x288 with 1 Axes>"
            ]
          },
          "metadata": {
            "tags": [],
            "needs_background": "light"
          }
        }
      ]
    },
    {
      "cell_type": "code",
      "metadata": {
        "colab": {
          "base_uri": "https://localhost:8080/",
          "height": 285
        },
        "id": "0BznEGbF5Uj9",
        "outputId": "254703e7-ddc1-41be-a302-6a59889ded80"
      },
      "source": [
        "plt.imshow(bloodpool_ES_dilated[4,:,:])"
      ],
      "execution_count": null,
      "outputs": [
        {
          "output_type": "execute_result",
          "data": {
            "text/plain": [
              "<matplotlib.image.AxesImage at 0x7f7ed93ed410>"
            ]
          },
          "metadata": {
            "tags": []
          },
          "execution_count": 1676
        },
        {
          "output_type": "display_data",
          "data": {
            "image/png": "[encoded data removed]",
            "text/plain": [
              "<Figure size 432x288 with 1 Axes>"
            ]
          },
          "metadata": {
            "tags": [],
            "needs_background": "light"
          }
        }
      ]
    },
    {
      "cell_type": "code",
      "metadata": {
        "id": "yUvFOKnh5WyR"
      },
      "source": [
        "for i in range(img_ED_syn.shape[0]):\n",
        "    #\n",
        "   for j in range(img_ED_syn.shape[1]):\n",
        "     for k in range(img_ED_syn.shape[2]):\n",
        "         \n",
        "         if bloodpool_ED_dilated[i, j, k]==2:\n",
        "            if bloodpool_ED[i,j,k]==2:\n",
        "               pass\n",
        "            else:\n",
        "             # if the detected pixel is not in LV blood pool in the original image then change it\n",
        "                bp_selected_ED = slice_getter(bp_ED, i)\n",
        "                index_ED = np.argmin(np.sum((np.array(bp_selected_ED) - np.array([i, j, k]))**2, axis=1))\n",
        "                a,b,c = bp_selected_ED[index_ED]\n",
        "                img_ED_syn[i, j, k] = img_ED[i, b, c]# closest point myocardium\n",
        "                img_gt_ED_syn[i,j,k] = 2\n",
        "         else:\n",
        "                pass\n",
        "             \n",
        "            \n",
        "            #find nearest point in gt_ED == 2 and take that pixel\n",
        "            \n",
        "           # np.mean(img_ED[img_gt_ED==2]) - random.choice(range(np.min(img_ED[img_gt_ED==2])+30, np.max(img_ED[img_gt_ED==2])-100))"
      ],
      "execution_count": null,
      "outputs": []
    },
    {
      "cell_type": "code",
      "metadata": {
        "colab": {
          "base_uri": "https://localhost:8080/",
          "height": 285
        },
        "id": "UiHeimc35cky",
        "outputId": "2fc23fd8-6c09-4ba8-845f-b0f3623cde95"
      },
      "source": [
        "plt.imshow(img_ED_syn[3,:,:], cmap=\"gray\")"
      ],
      "execution_count": null,
      "outputs": [
        {
          "output_type": "execute_result",
          "data": {
            "text/plain": [
              "<matplotlib.image.AxesImage at 0x7f7ed933e390>"
            ]
          },
          "metadata": {
            "tags": []
          },
          "execution_count": 1678
        },
        {
          "output_type": "display_data",
          "data": {
            "image/png": "[encoded data removed]",
            "text/plain": [
              "<Figure size 432x288 with 1 Axes>"
            ]
          },
          "metadata": {
            "tags": [],
            "needs_background": "light"
          }
        }
      ]
    },
    {
      "cell_type": "code",
      "metadata": {
        "id": "aCQDv4eB5dHc"
      },
      "source": [
        "for i in range(img_ES_syn.shape[0]):\n",
        "    #\n",
        "   for j in range(img_ES_syn.shape[1]):\n",
        "     for k in range(img_ES_syn.shape[2]):\n",
        "         \n",
        "         if bloodpool_ES_dilated[i, j, k]==2:\n",
        "            if bloodpool_ES[i,j,k]==2:\n",
        "               pass\n",
        "            else:\n",
        "             # if the detected pixel is not in blood pool in the original image then change it\n",
        "                bp_selected_ES = slice_getter(bp_ES, i)\n",
        "                index_ES = np.argmin(np.sum((np.array(bp_selected_ES) - np.array([i, j, k]))**2, axis=1))\n",
        "                a,b,c = bp_selected_ES[index_ES]\n",
        "                img_ES_syn[i, j, k] = img_ES[i, b, c]# closest point myocardium\n",
        "                img_gt_ES_syn[i,j,k] = 2\n",
        "         else:\n",
        "                pass\n",
        "             \n",
        "            \n",
        "            #find nearest point in gt_ED == 2 and take that pixel\n",
        "            \n",
        "           # np.mean(img_ED[img_gt_ED==2]) - random.choice(range(np.min(img_ED[img_gt_ED==2])+30, np.max(img_ED[img_gt_ED==2])-100))"
      ],
      "execution_count": null,
      "outputs": []
    },
    {
      "cell_type": "code",
      "metadata": {
        "colab": {
          "base_uri": "https://localhost:8080/",
          "height": 285
        },
        "id": "UExqvcIP5kyb",
        "outputId": "4f17c6ce-8102-4515-f8c6-ae32f3445808"
      },
      "source": [
        "plt.imshow(img_ES_syn[3,:,:], cmap=\"gray\")"
      ],
      "execution_count": null,
      "outputs": [
        {
          "output_type": "execute_result",
          "data": {
            "text/plain": [
              "<matplotlib.image.AxesImage at 0x7f7ed932e490>"
            ]
          },
          "metadata": {
            "tags": []
          },
          "execution_count": 1680
        },
        {
          "output_type": "display_data",
          "data": {
            "image/png": "[encoded data removed]",
            "text/plain": [
              "<Figure size 432x288 with 1 Axes>"
            ]
          },
          "metadata": {
            "tags": [],
            "needs_background": "light"
          }
        }
      ]
    },
    {
      "cell_type": "code",
      "metadata": {
        "id": "e9XRHPPw5oOb"
      },
      "source": [
        "img_new_syn_ED = sitk.GetImageFromArray(img_ED_syn)\n",
        "img_new_syn_ED.CopyInformation(img_ED_org)\n",
        "gt_new_syn_ED  = sitk.GetImageFromArray(img_gt_ED_syn)\n",
        "gt_new_syn_ED.CopyInformation(img_gt_ED_org)\n",
        "###\n",
        "img_new_syn_ES = sitk.GetImageFromArray(img_ES_syn)\n",
        "img_new_syn_ES.CopyInformation(img_ES_org)\n",
        "gt_new_syn_ES = sitk.GetImageFromArray(img_gt_ES_syn)\n",
        "gt_new_syn_ES.CopyInformation(img_gt_ES_org)\n",
        "# Save the images and the segmentations\n",
        "save_path_root = \"/content/gdrive/MyDrive/Synthetic Data/syn_python/syn_thin_myo/\"\n",
        "save_path_img_ED = save_path_root + \"patient\" + \"%d\"%acdc_selected + \"_ED.nii.gz\"\n",
        "save_path_gt_ED = save_path_root + \"patient\" + \"%d\"%acdc_selected + \"_ED_gt.nii.gz\"\n",
        "sitk.WriteImage(img_new_syn_ED, save_path_img_ED)\n",
        "sitk.WriteImage(gt_new_syn_ED, save_path_gt_ED)\n",
        "### ES\n",
        "save_path_img_ES = save_path_root + \"patient\" + \"%d\"%acdc_selected + \"_ES.nii.gz\"\n",
        "save_path_gt_ES = save_path_root + \"patient\" + \"%d\"%acdc_selected + \"_ES_gt.nii.gz\"\n",
        "sitk.WriteImage(img_new_syn_ES, save_path_img_ES)\n",
        "sitk.WriteImage(gt_new_syn_ES, save_path_gt_ES)"
      ],
      "execution_count": null,
      "outputs": []
    }
  ]
}